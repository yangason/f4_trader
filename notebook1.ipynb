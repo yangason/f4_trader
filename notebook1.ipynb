{
 "cells": [
  {
   "cell_type": "code",
   "execution_count": 1,
   "id": "3675a660",
   "metadata": {},
   "outputs": [],
   "source": [
    "# 忽略各模块的警告信息\n",
    "import warnings\n",
    "warnings.filterwarnings(\"ignore\")"
   ]
  },
  {
   "cell_type": "code",
   "execution_count": 2,
   "id": "551aa52a",
   "metadata": {},
   "outputs": [
    {
     "name": "stdout",
     "output_type": "stream",
     "text": [
      "datafeed: <vnpy_akshare.akshre_feed.AKShareDataFeed object at 0x117042f50>\n"
     ]
    }
   ],
   "source": [
    "# 加载所需使用的模块\n",
    "from datetime import datetime\n",
    "\n",
    "from vnpy.trader.datafeed import get_datafeed\n",
    "from vnpy.trader.database import get_database, DB_TZ\n",
    "from vnpy.trader.constant import Interval\n",
    "from vnpy.trader.object import BarData, HistoryRequest\n",
    "from vnpy.trader.utility import extract_vt_symbol\n",
    "from vnpy.trader.setting import SETTINGS\n",
    "from akshare import stock_feature as sf\n",
    "\n",
    "# 配置数据服务\n",
    "SETTINGS[\"datafeed.name\"] = \"akshare\"            # 可以根据自己的需求选择数据服务：rqdata/xt/wind等\n",
    "SETTINGS[\"datafeed.username\"] = \"license\"       # RQData的用户名统一为“license”这个字符串\n",
    "SETTINGS[\"datafeed.password\"] = \"123456\"        # 这里需要替换为你购买或者申请试用的RQData数据license\n",
    "\n",
    "# 配置数据库\n",
    "SETTINGS[\"database.name\"] = \"taos\"              # 可以根据自己的需求选择数据库，这里使用的是TDengine\n",
    "SETTINGS[\"database.database\"] = \"vnpy\"\n",
    "SETTINGS[\"database.host\"] = \"127.0.0.1\"\n",
    "SETTINGS[\"database.port\"] = 6030\n",
    "SETTINGS[\"database.user\"] = \"root\"\n",
    "SETTINGS[\"database.password\"] = \"taosdata\"\n",
    "\n",
    "# 创建对象实例\n",
    "datafeed = get_datafeed()\n",
    "\n",
    "# database = get_database()\n",
    "\n",
    "# 要下载数据的起止时间\n",
    "start = datetime(2025, 1, 1, tzinfo=DB_TZ)\n",
    "end = datetime(2025, 3, 30, tzinfo=DB_TZ)"
   ]
  },
  {
   "cell_type": "code",
   "execution_count": 3,
   "id": "5a28da47",
   "metadata": {},
   "outputs": [],
   "source": [
    "# 要下载数据的合约代码\n",
    "vt_symbols = [\n",
    "    \"IF2501.CFFEX\",\n",
    "    \"IF2502.CFFEX\",\n",
    "    \"IF2503.CFFEX\",\n",
    "\n",
    "    \"IH2501.CFFEX\",\n",
    "    \"IH2502.CFFEX\",\n",
    "    \"IH2503.CFFEX\",\n",
    "\n",
    "    \"IC2501.CFFEX\",\n",
    "    \"IC2502.CFFEX\",\n",
    "    \"IC2503.CFFEX\",\n",
    "\n",
    "    \"IM2501.CFFEX\",\n",
    "    \"IM2502.CFFEX\",\n",
    "    \"IM2503.CFFEX\",\n",
    "]"
   ]
  },
  {
   "cell_type": "code",
   "execution_count": 4,
   "id": "67f93a42",
   "metadata": {},
   "outputs": [
    {
     "ename": "AttributeError",
     "evalue": "'Pandas' object has no attribute 'datetime'",
     "output_type": "error",
     "traceback": [
      "\u001b[31m---------------------------------------------------------------------------\u001b[39m",
      "\u001b[31mAttributeError\u001b[39m                            Traceback (most recent call last)",
      "\u001b[36mCell\u001b[39m\u001b[36m \u001b[39m\u001b[32mIn[4]\u001b[39m\u001b[32m, line 16\u001b[39m\n\u001b[32m      7\u001b[39m req: HistoryRequest = HistoryRequest(\n\u001b[32m      8\u001b[39m     symbol=symbol,\n\u001b[32m      9\u001b[39m     exchange=exchange,\n\u001b[32m   (...)\u001b[39m\u001b[32m     12\u001b[39m     interval=Interval.MINUTE        \u001b[38;5;66;03m# 这里下载最常用的1分钟K线\u001b[39;00m\n\u001b[32m     13\u001b[39m )\n\u001b[32m     15\u001b[39m \u001b[38;5;66;03m# 从数据服务下载数据\u001b[39;00m\n\u001b[32m---> \u001b[39m\u001b[32m16\u001b[39m bars: \u001b[38;5;28mlist\u001b[39m[BarData] = datafeed.query_bar_history(req)\n\u001b[32m     18\u001b[39m \u001b[38;5;66;03m# 如果下载成功则保存\u001b[39;00m\n\u001b[32m     19\u001b[39m \u001b[38;5;28;01mif\u001b[39;00m bars:\n",
      "\u001b[36mFile \u001b[39m\u001b[32m~/miniconda3/envs/vnpy/lib/python3.11/site-packages/vnpy_akshare/akshre_feed.py:263\u001b[39m, in \u001b[36mAKShareDataFeed.query_bar_history\u001b[39m\u001b[34m(self, req)\u001b[39m\n\u001b[32m    260\u001b[39m clazz = FEEDS[exchange]\n\u001b[32m    261\u001b[39m df = clazz().query_bar_history(req)\n\u001b[32m--> \u001b[39m\u001b[32m263\u001b[39m \u001b[38;5;28;01mreturn\u001b[39;00m \u001b[38;5;28mself\u001b[39m.convert_df_to_bar(req, df)\n",
      "\u001b[36mFile \u001b[39m\u001b[32m~/miniconda3/envs/vnpy/lib/python3.11/site-packages/vnpy_akshare/akshre_feed.py:223\u001b[39m, in \u001b[36mAKShareDataFeed.convert_df_to_bar\u001b[39m\u001b[34m(self, req, df)\u001b[39m\n\u001b[32m    220\u001b[39m df.fillna(\u001b[32m0\u001b[39m, inplace=\u001b[38;5;28;01mTrue\u001b[39;00m)\n\u001b[32m    222\u001b[39m \u001b[38;5;28;01mfor\u001b[39;00m row \u001b[38;5;129;01min\u001b[39;00m df.itertuples():\n\u001b[32m--> \u001b[39m\u001b[32m223\u001b[39m     dt: datetime = string_to_date(row.datetime)\n\u001b[32m    224\u001b[39m     dt: datetime = dt - adjustment\n\u001b[32m    225\u001b[39m     dt: datetime = CHINA_TZ.localize(dt)\n",
      "\u001b[31mAttributeError\u001b[39m: 'Pandas' object has no attribute 'datetime'"
     ]
    }
   ],
   "source": [
    "# 遍历列表执行下载\n",
    "for vt_symbol in vt_symbols:\n",
    "    # 拆分合约代码和交易所\n",
    "    symbol, exchange = extract_vt_symbol(vt_symbol)\n",
    "\n",
    "    # 创建历史数据请求对象\n",
    "    req: HistoryRequest = HistoryRequest(\n",
    "        symbol=symbol,\n",
    "        exchange=exchange,\n",
    "        start=start,\n",
    "        end=end,\n",
    "        interval=Interval.MINUTE        # 这里下载最常用的1分钟K线\n",
    "    )\n",
    "\n",
    "    # 从数据服务下载数据\n",
    "    bars: list[BarData] = datafeed.query_bar_history(req)\n",
    "\n",
    "    # 如果下载成功则保存\n",
    "    if bars:\n",
    "        database.save_bar_data(bars)\n",
    "        print(f\"下载数据成功：{vt_symbol}，总数据量：{len(bars)}\")\n",
    "    # 否则失败则打印信息\n",
    "    else:\n",
    "        print(f\"下载数据失败：{vt_symbol}\")"
   ]
  }
 ],
 "metadata": {
  "kernelspec": {
   "display_name": "vnpy",
   "language": "python",
   "name": "python3"
  },
  "language_info": {
   "codemirror_mode": {
    "name": "ipython",
    "version": 3
   },
   "file_extension": ".py",
   "mimetype": "text/x-python",
   "name": "python",
   "nbconvert_exporter": "python",
   "pygments_lexer": "ipython3",
   "version": "3.11.13"
  }
 },
 "nbformat": 4,
 "nbformat_minor": 5
}
